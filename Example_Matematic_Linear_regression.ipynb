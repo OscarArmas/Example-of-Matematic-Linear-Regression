{
 "cells": [
  {
   "cell_type": "markdown",
   "metadata": {},
   "source": [
    "## Regresion Lineal- Matematica no sklearn"
   ]
  },
  {
   "cell_type": "code",
   "execution_count": 1,
   "metadata": {},
   "outputs": [],
   "source": [
    "import pandas as pd\n",
    "import numpy as np\n",
    "import matplotlib.pyplot as plt"
   ]
  },
  {
   "cell_type": "code",
   "execution_count": 2,
   "metadata": {},
   "outputs": [],
   "source": [
    "data_localization = 'C:/Users/Z420/Downloads/machine-learning-ex1/ex1/ex1data1.txt'\n",
    "data =  pd.read_table(data_localization, sep= ',', header=None)"
   ]
  },
  {
   "cell_type": "code",
   "execution_count": 3,
   "metadata": {},
   "outputs": [],
   "source": [
    "ones_colum = data.shape[0] #longitud del dataset"
   ]
  },
  {
   "cell_type": "markdown",
   "metadata": {},
   "source": [
    "insertamos una nueva columna con unos\n",
    "* data[0] variables predictoras\n",
    "* data[1] valores a predecir\n",
    "* data[2] columan de unos"
   ]
  },
  {
   "cell_type": "code",
   "execution_count": 4,
   "metadata": {},
   "outputs": [
    {
     "data": {
      "text/html": [
       "<div>\n",
       "<style scoped>\n",
       "    .dataframe tbody tr th:only-of-type {\n",
       "        vertical-align: middle;\n",
       "    }\n",
       "\n",
       "    .dataframe tbody tr th {\n",
       "        vertical-align: top;\n",
       "    }\n",
       "\n",
       "    .dataframe thead th {\n",
       "        text-align: right;\n",
       "    }\n",
       "</style>\n",
       "<table border=\"1\" class=\"dataframe\">\n",
       "  <thead>\n",
       "    <tr style=\"text-align: right;\">\n",
       "      <th></th>\n",
       "      <th>0</th>\n",
       "      <th>1</th>\n",
       "      <th>2</th>\n",
       "    </tr>\n",
       "  </thead>\n",
       "  <tbody>\n",
       "    <tr>\n",
       "      <th>0</th>\n",
       "      <td>6.1101</td>\n",
       "      <td>17.5920</td>\n",
       "      <td>1.0</td>\n",
       "    </tr>\n",
       "    <tr>\n",
       "      <th>1</th>\n",
       "      <td>5.5277</td>\n",
       "      <td>9.1302</td>\n",
       "      <td>1.0</td>\n",
       "    </tr>\n",
       "    <tr>\n",
       "      <th>2</th>\n",
       "      <td>8.5186</td>\n",
       "      <td>13.6620</td>\n",
       "      <td>1.0</td>\n",
       "    </tr>\n",
       "    <tr>\n",
       "      <th>3</th>\n",
       "      <td>7.0032</td>\n",
       "      <td>11.8540</td>\n",
       "      <td>1.0</td>\n",
       "    </tr>\n",
       "    <tr>\n",
       "      <th>4</th>\n",
       "      <td>5.8598</td>\n",
       "      <td>6.8233</td>\n",
       "      <td>1.0</td>\n",
       "    </tr>\n",
       "  </tbody>\n",
       "</table>\n",
       "</div>"
      ],
      "text/plain": [
       "        0        1    2\n",
       "0  6.1101  17.5920  1.0\n",
       "1  5.5277   9.1302  1.0\n",
       "2  8.5186  13.6620  1.0\n",
       "3  7.0032  11.8540  1.0\n",
       "4  5.8598   6.8233  1.0"
      ]
     },
     "execution_count": 4,
     "metadata": {},
     "output_type": "execute_result"
    }
   ],
   "source": [
    "data[2] = np.ones(ones_colum)\n",
    "data.head()"
   ]
  },
  {
   "cell_type": "code",
   "execution_count": 5,
   "metadata": {},
   "outputs": [],
   "source": [
    "X= data[[2,0]].values # .values - para tranformar de DataFrame a matriz de numpy\n",
    "y = data[1].values\n",
    "m=  len(y)\n",
    "iterations = 1500\n",
    "theta = [0,0] #array"
   ]
  },
  {
   "cell_type": "code",
   "execution_count": 6,
   "metadata": {},
   "outputs": [
    {
     "data": {
      "text/plain": [
       "Text(0.5,1,'Restaurante: Beneficio x Población')"
      ]
     },
     "execution_count": 6,
     "metadata": {},
     "output_type": "execute_result"
    },
    {
     "data": {
      "image/png": "[encoded data removed]",
      "text/plain": [
       "<Figure size 432x288 with 1 Axes>"
      ]
     },
     "metadata": {},
     "output_type": "display_data"
    }
   ],
   "source": [
    "plt.scatter(X[:,1], y, marker='o', c ='red')\n",
    "plt.xlabel('Población')\n",
    "plt.ylabel('Beneficio')\n",
    "plt.title('Restaurante: Beneficio x Población')"
   ]
  },
  {
   "cell_type": "markdown",
   "metadata": {},
   "source": [
    "### Funcion costo"
   ]
  },
  {
   "cell_type": "code",
   "execution_count": 7,
   "metadata": {},
   "outputs": [
    {
     "data": {
      "text/latex": [
       "$$J(\\theta_0, \\theta_1)=\\frac{1}{2m}\\sum_{i = 1}^m (H_\\theta(x^{(i)})-y^{(i)})^2$$"
      ],
      "text/plain": [
       "<IPython.core.display.Math object>"
      ]
     },
     "metadata": {},
     "output_type": "display_data"
    }
   ],
   "source": [
    "from IPython.display import display, Math, Latex\n",
    "display(Math(r'J(\\theta_0, \\theta_1)=\\frac{1}{2m}\\sum_{i = 1}^m (H_\\theta(x^{(i)})-y^{(i)})^2'))"
   ]
  },
  {
   "cell_type": "code",
   "execution_count": 8,
   "metadata": {},
   "outputs": [],
   "source": [
    "## COST FUNCTION\n",
    "# X tipo matrix Numpy\n",
    "# y tipo matrox Numpy\n",
    "# theta tipo array\n",
    "def cost_function(X, y, theta):\n",
    "    m = len(y)\n",
    "    J=0\n",
    "    predictor = X.dot(theta)\n",
    "        \n",
    "    for i in range(m):\n",
    "        temp_squarederror = (predictor[i]-y[i]) **2\n",
    "        J += temp_squarederror\n",
    "    \n",
    "    return J * (1/(2*m))"
   ]
  },
  {
   "cell_type": "code",
   "execution_count": 9,
   "metadata": {},
   "outputs": [
    {
     "data": {
      "text/plain": [
       "32.072733877455654"
      ]
     },
     "execution_count": 9,
     "metadata": {},
     "output_type": "execute_result"
    }
   ],
   "source": [
    "cost_function(X,y,theta)"
   ]
  },
  {
   "cell_type": "code",
   "execution_count": 10,
   "metadata": {},
   "outputs": [],
   "source": [
    "### Regresion Lineal Simple"
   ]
  },
  {
   "cell_type": "code",
   "execution_count": 11,
   "metadata": {},
   "outputs": [
    {
     "data": {
      "text/latex": [
       "$$\\theta_j:=\\theta_j-\\alpha\\frac{1}{m}\\sum_{i = 1}^m (H_\\theta(x^{(i)})-y^{(i)})x_j^{(i)}$$"
      ],
      "text/plain": [
       "<IPython.core.display.Math object>"
      ]
     },
     "metadata": {},
     "output_type": "display_data"
    }
   ],
   "source": [
    "display(Math(r'\\theta_j:=\\theta_j-\\alpha\\frac{1}{m}\\sum_{i = 1}^m (H_\\theta(x^{(i)})-y^{(i)})x_j^{(i)}'))"
   ]
  },
  {
   "cell_type": "code",
   "execution_count": 12,
   "metadata": {},
   "outputs": [],
   "source": [
    "def gradient_decent(X,y,theta, alpha, m_iters):\n",
    "    m = len(y)\n",
    "    theta1 = theta\n",
    "    optim = alpha*(1/m)\n",
    "    for i in range(m_iters):\n",
    "        temp0 = theta1[0] -optim* np.sum(np.subtract((X.dot(theta1)), y))\n",
    "        temp1 = theta1[1] -optim* np.sum(np.multiply(np.subtract((X.dot(theta1)), y), X[:,1]))\n",
    "        theta1[0]= temp0\n",
    "        theta1[1]= temp1\n",
    "    \n",
    "    return theta1"
   ]
  },
  {
   "cell_type": "code",
   "execution_count": 13,
   "metadata": {},
   "outputs": [
    {
     "data": {
      "text/plain": [
       "[-3.6302914394043606, 1.166362350335582]"
      ]
     },
     "execution_count": 13,
     "metadata": {},
     "output_type": "execute_result"
    }
   ],
   "source": [
    "gradient_decent(X, y, theta, alpha=0.01, m_iters=1500)"
   ]
  },
  {
   "cell_type": "code",
   "execution_count": 14,
   "metadata": {},
   "outputs": [
    {
     "data": {
      "text/latex": [
       "$$H_\\theta(x) = \\theta_0 + \\theta_1x_1$$"
      ],
      "text/plain": [
       "<IPython.core.display.Math object>"
      ]
     },
     "metadata": {},
     "output_type": "display_data"
    },
    {
     "data": {
      "text/latex": [
       "$$\\theta_0 =-3.6302914394043606 $$"
      ],
      "text/plain": [
       "<IPython.core.display.Math object>"
      ]
     },
     "metadata": {},
     "output_type": "display_data"
    },
    {
     "data": {
      "text/latex": [
       "$$\\theta_1 =1.166362350335582 $$"
      ],
      "text/plain": [
       "<IPython.core.display.Math object>"
      ]
     },
     "metadata": {},
     "output_type": "display_data"
    }
   ],
   "source": [
    "display(Math(r'H_\\theta(x) = \\theta_0 + \\theta_1x_1'))\n",
    "display(Math(r'\\theta_0 =-3.6302914394043606 '))\n",
    "display(Math(r'\\theta_1 =1.166362350335582 '))\n"
   ]
  },
  {
   "cell_type": "code",
   "execution_count": 15,
   "metadata": {},
   "outputs": [],
   "source": [
    "data[3]=-3.878051175050171+ 1.1912525031860843 * data[0]"
   ]
  },
  {
   "cell_type": "code",
   "execution_count": 16,
   "metadata": {},
   "outputs": [
    {
     "data": {
      "text/plain": [
       "<matplotlib.legend.Legend at 0x219cf404128>"
      ]
     },
     "execution_count": 16,
     "metadata": {},
     "output_type": "execute_result"
    },
    {
     "data": {
      "image/png": "[encoded data removed]",
      "text/plain": [
       "<Figure size 432x288 with 1 Axes>"
      ]
     },
     "metadata": {},
     "output_type": "display_data"
    }
   ],
   "source": [
    "%matplotlib inline\n",
    "plt.scatter(data[0], data[1],label= 'Data', marker='o', c ='red')\n",
    "plt.plot(data[0], data[3], color='blue', linewidth=1,label= 'Linear Regression',)\n",
    "plt.xlabel('Población')\n",
    "plt.ylabel('Beneficio')\n",
    "plt.title('Restaurante: Beneficio x Población')\n",
    "plt.legend()"
   ]
  },
  {
   "cell_type": "code",
   "execution_count": null,
   "metadata": {},
   "outputs": [],
   "source": []
  }
 ],
 "metadata": {
  "kernelspec": {
   "display_name": "Python 3",
   "language": "python",
   "name": "python3"
  },
  "language_info": {
   "codemirror_mode": {
    "name": "ipython",
    "version": 3
   },
   "file_extension": ".py",
   "mimetype": "text/x-python",
   "name": "python",
   "nbconvert_exporter": "python",
   "pygments_lexer": "ipython3",
   "version": "3.6.5"
  }
 },
 "nbformat": 4,
 "nbformat_minor": 2
}
